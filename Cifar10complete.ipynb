{
  "nbformat": 4,
  "nbformat_minor": 0,
  "metadata": {
    "colab": {
      "name": "Cifar10complete.ipynb",
      "provenance": []
    },
    "kernelspec": {
      "name": "python3",
      "display_name": "Python 3"
    },
    "language_info": {
      "name": "python"
    }
  },
  "cells": [
    {
      "cell_type": "code",
      "execution_count": 6,
      "metadata": {
        "colab": {
          "base_uri": "https://localhost:8080/"
        },
        "id": "91bF925HU_DZ",
        "outputId": "96c85858-570c-4162-cb1b-684e2fd27970"
      },
      "outputs": [
        {
          "output_type": "stream",
          "name": "stdout",
          "text": [
            "Downloading data from https://www.cs.toronto.edu/~kriz/cifar-10-python.tar.gz\n",
            "170500096/170498071 [==============================] - 7s 0us/step\n",
            "170508288/170498071 [==============================] - 7s 0us/step\n"
          ]
        }
      ],
      "source": [
        "from tensorflow.keras.datasets.cifar10 import load_data \n",
        "(x_train, y_train),(x_test, y_test) = load_data()"
      ]
    },
    {
      "cell_type": "code",
      "source": [
        "x_train = x_train/255\n",
        "x_test = x_test/255 \n",
        "x_train_flat = x_train.reshape(len(x_train), 32*32*3)"
      ],
      "metadata": {
        "id": "6MDBlGDlVbGD"
      },
      "execution_count": 27,
      "outputs": []
    },
    {
      "cell_type": "code",
      "source": [
        "import tensorflow as tf\n"
      ],
      "metadata": {
        "id": "dEO_78qWYbR9"
      },
      "execution_count": 17,
      "outputs": []
    },
    {
      "cell_type": "code",
      "source": [
        "input_shape = (32,32,3)\n",
        "model = tf.keras.Sequential([\n",
        "        tf.keras.layers.Dense(100, input_shape=(3072,), activation='relu'),\n",
        "        tf.keras.layers.Dense(100, input_shape=(3072,), activation='relu'),\n",
        "        tf.keras.layers.Dense(10, activation='sigmoid')\n",
        "])"
      ],
      "metadata": {
        "id": "wgW47C78WpIr"
      },
      "execution_count": 18,
      "outputs": []
    },
    {
      "cell_type": "code",
      "source": [
        "model.compile(optimizer='adam', loss='sparse_categorical_crossentropy', metrics=['accuracy'])"
      ],
      "metadata": {
        "id": "7ta8uVQgY1hF"
      },
      "execution_count": 19,
      "outputs": []
    },
    {
      "cell_type": "code",
      "source": [
        "history = model.fit(x=x_train_flat, y=y_train, validation_split=0.3, epochs=20)"
      ],
      "metadata": {
        "colab": {
          "base_uri": "https://localhost:8080/"
        },
        "id": "NUjkYKy8ZK1c",
        "outputId": "05e1e8c7-0953-4544-c962-40d690db67d8"
      },
      "execution_count": 29,
      "outputs": [
        {
          "output_type": "stream",
          "name": "stdout",
          "text": [
            "Epoch 1/20\n",
            "1094/1094 [==============================] - 7s 6ms/step - loss: 2.3028 - accuracy: 0.0996 - val_loss: 2.3028 - val_accuracy: 0.0984\n",
            "Epoch 2/20\n",
            "1094/1094 [==============================] - 6s 6ms/step - loss: 2.3028 - accuracy: 0.0999 - val_loss: 2.3027 - val_accuracy: 0.0984\n",
            "Epoch 3/20\n",
            "1094/1094 [==============================] - 7s 6ms/step - loss: 2.3028 - accuracy: 0.0994 - val_loss: 2.3027 - val_accuracy: 0.0984\n",
            "Epoch 4/20\n",
            "1094/1094 [==============================] - 7s 6ms/step - loss: 2.3028 - accuracy: 0.1000 - val_loss: 2.3028 - val_accuracy: 0.0999\n",
            "Epoch 5/20\n",
            "1094/1094 [==============================] - 7s 6ms/step - loss: 2.3028 - accuracy: 0.0980 - val_loss: 2.3027 - val_accuracy: 0.0979\n",
            "Epoch 6/20\n",
            "1094/1094 [==============================] - 6s 6ms/step - loss: 2.3028 - accuracy: 0.0984 - val_loss: 2.3028 - val_accuracy: 0.0983\n",
            "Epoch 7/20\n",
            "1094/1094 [==============================] - 7s 6ms/step - loss: 2.3028 - accuracy: 0.0965 - val_loss: 2.3028 - val_accuracy: 0.0979\n",
            "Epoch 8/20\n",
            "1094/1094 [==============================] - 7s 6ms/step - loss: 2.3028 - accuracy: 0.0967 - val_loss: 2.3027 - val_accuracy: 0.0979\n",
            "Epoch 9/20\n",
            "1094/1094 [==============================] - 6s 6ms/step - loss: 2.3028 - accuracy: 0.0982 - val_loss: 2.3027 - val_accuracy: 0.0979\n",
            "Epoch 10/20\n",
            "1094/1094 [==============================] - 6s 6ms/step - loss: 2.3027 - accuracy: 0.0996 - val_loss: 2.3028 - val_accuracy: 0.0979\n",
            "Epoch 11/20\n",
            "1094/1094 [==============================] - 7s 6ms/step - loss: 2.3028 - accuracy: 0.0992 - val_loss: 2.3028 - val_accuracy: 0.0984\n",
            "Epoch 12/20\n",
            "1094/1094 [==============================] - 6s 6ms/step - loss: 2.3028 - accuracy: 0.0998 - val_loss: 2.3029 - val_accuracy: 0.0984\n",
            "Epoch 13/20\n",
            "1094/1094 [==============================] - 6s 6ms/step - loss: 2.3027 - accuracy: 0.0986 - val_loss: 2.3027 - val_accuracy: 0.0983\n",
            "Epoch 14/20\n",
            "1094/1094 [==============================] - 7s 6ms/step - loss: 2.3028 - accuracy: 0.0978 - val_loss: 2.3027 - val_accuracy: 0.0984\n",
            "Epoch 15/20\n",
            "1094/1094 [==============================] - 7s 6ms/step - loss: 2.3028 - accuracy: 0.0980 - val_loss: 2.3027 - val_accuracy: 0.0984\n",
            "Epoch 16/20\n",
            "1094/1094 [==============================] - 7s 6ms/step - loss: 2.3028 - accuracy: 0.0983 - val_loss: 2.3028 - val_accuracy: 0.0984\n",
            "Epoch 17/20\n",
            "1094/1094 [==============================] - 6s 6ms/step - loss: 2.3028 - accuracy: 0.0987 - val_loss: 2.3026 - val_accuracy: 0.0984\n",
            "Epoch 18/20\n",
            "1094/1094 [==============================] - 7s 7ms/step - loss: 2.3028 - accuracy: 0.0981 - val_loss: 2.3027 - val_accuracy: 0.0979\n",
            "Epoch 19/20\n",
            "1094/1094 [==============================] - 7s 6ms/step - loss: 2.3028 - accuracy: 0.0984 - val_loss: 2.3027 - val_accuracy: 0.0979\n",
            "Epoch 20/20\n",
            "1094/1094 [==============================] - 7s 6ms/step - loss: 2.3028 - accuracy: 0.0978 - val_loss: 2.3028 - val_accuracy: 0.0979\n"
          ]
        }
      ]
    }
  ]
}